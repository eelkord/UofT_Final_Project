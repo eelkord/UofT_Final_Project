{
  "nbformat": 4,
  "nbformat_minor": 0,
  "metadata": {
    "colab": {
      "name": "AWS_to_SQL.ipynb",
      "provenance": []
    },
    "kernelspec": {
      "name": "python3",
      "display_name": "Python 3"
    },
    "language_info": {
      "name": "python"
    }
  },
  "cells": [
    {
      "cell_type": "code",
      "execution_count": 1,
      "metadata": {
        "colab": {
          "base_uri": "https://localhost:8080/"
        },
        "id": "wN9q3VasYDmd",
        "outputId": "67d5a9c4-756a-4c65-bfa3-1899090e31fc"
      },
      "outputs": [
        {
          "output_type": "stream",
          "name": "stdout",
          "text": [
            "Get:1 https://cloud.r-project.org/bin/linux/ubuntu bionic-cran40/ InRelease [3,626 B]\n",
            "Get:2 http://security.ubuntu.com/ubuntu bionic-security InRelease [88.7 kB]\n",
            "Hit:3 http://archive.ubuntu.com/ubuntu bionic InRelease\n",
            "Hit:4 http://ppa.launchpad.net/c2d4u.team/c2d4u4.0+/ubuntu bionic InRelease\n",
            "Get:5 http://archive.ubuntu.com/ubuntu bionic-updates InRelease [88.7 kB]\n",
            "Ign:6 https://developer.download.nvidia.com/compute/machine-learning/repos/ubuntu1804/x86_64  InRelease\n",
            "Get:7 https://developer.download.nvidia.com/compute/cuda/repos/ubuntu1804/x86_64  InRelease [1,581 B]\n",
            "Hit:8 https://developer.download.nvidia.com/compute/machine-learning/repos/ubuntu1804/x86_64  Release\n",
            "Hit:9 http://ppa.launchpad.net/cran/libgit2/ubuntu bionic InRelease\n",
            "Get:10 http://archive.ubuntu.com/ubuntu bionic-backports InRelease [74.6 kB]\n",
            "Hit:11 http://ppa.launchpad.net/deadsnakes/ppa/ubuntu bionic InRelease\n",
            "Get:12 https://developer.download.nvidia.com/compute/cuda/repos/ubuntu1804/x86_64  Packages [902 kB]\n",
            "Hit:14 http://ppa.launchpad.net/graphics-drivers/ppa/ubuntu bionic InRelease\n",
            "Get:15 http://security.ubuntu.com/ubuntu bionic-security/universe amd64 Packages [1,528 kB]\n",
            "Get:16 http://archive.ubuntu.com/ubuntu bionic-updates/universe amd64 Packages [2,306 kB]\n",
            "Get:17 http://security.ubuntu.com/ubuntu bionic-security/main amd64 Packages [2,905 kB]\n",
            "Get:18 http://archive.ubuntu.com/ubuntu bionic-updates/main amd64 Packages [3,336 kB]\n",
            "Fetched 11.2 MB in 5s (2,152 kB/s)\n",
            "Reading package lists... Done\n"
          ]
        }
      ],
      "source": [
        "import os\n",
        "# Find the latest version of spark 3.0 from http://www.apache.org/dist/spark/ and enter as the spark version\n",
        "# For example:\n",
        "spark_version = 'spark-3.0.3'\n",
        "#spark_version = 'spark-3.2.1'\n",
        "os.environ['SPARK_VERSION']=spark_version\n",
        "\n",
        "# Install Spark and Java\n",
        "!apt-get update\n",
        "!apt-get install openjdk-11-jdk-headless -qq > /dev/null\n",
        "!wget -q http://www.apache.org/dist/spark/$SPARK_VERSION/$SPARK_VERSION-bin-hadoop2.7.tgz\n",
        "!tar xf $SPARK_VERSION-bin-hadoop2.7.tgz\n",
        "!pip install -q findspark\n",
        "\n",
        "# Set Environment Variables\n",
        "import os\n",
        "os.environ[\"JAVA_HOME\"] = \"/usr/lib/jvm/java-11-openjdk-amd64\"\n",
        "os.environ[\"SPARK_HOME\"] = f\"/content/{spark_version}-bin-hadoop2.7\"\n",
        "\n",
        "# Start a SparkSession\n",
        "import findspark\n",
        "findspark.init()"
      ]
    },
    {
      "cell_type": "code",
      "source": [
        "# Download the Postgres driver that will allow Spark to interact with Postgres.\n",
        "!wget https://jdbc.postgresql.org/download/postgresql-42.2.16.jar"
      ],
      "metadata": {
        "colab": {
          "base_uri": "https://localhost:8080/"
        },
        "id": "ybZIVMQrYPGQ",
        "outputId": "c1093d72-3958-4055-83f6-bcb9016b92f7"
      },
      "execution_count": 2,
      "outputs": [
        {
          "output_type": "stream",
          "name": "stdout",
          "text": [
            "--2022-08-06 14:11:34--  https://jdbc.postgresql.org/download/postgresql-42.2.16.jar\n",
            "Resolving jdbc.postgresql.org (jdbc.postgresql.org)... 72.32.157.228, 2001:4800:3e1:1::228\n",
            "Connecting to jdbc.postgresql.org (jdbc.postgresql.org)|72.32.157.228|:443... connected.\n",
            "HTTP request sent, awaiting response... 200 OK\n",
            "Length: 1002883 (979K) [application/java-archive]\n",
            "Saving to: ‘postgresql-42.2.16.jar’\n",
            "\n",
            "postgresql-42.2.16. 100%[===================>] 979.38K  1.18MB/s    in 0.8s    \n",
            "\n",
            "2022-08-06 14:11:36 (1.18 MB/s) - ‘postgresql-42.2.16.jar’ saved [1002883/1002883]\n",
            "\n"
          ]
        }
      ]
    },
    {
      "cell_type": "code",
      "source": [
        "from pyspark.sql import SparkSession\n",
        "spark = SparkSession.builder.appName(\"M16-Amazon-Challenge\").config(\"spark.driver.extraClassPath\",\"/content/postgresql-42.2.16.jar\").getOrCreate()\n"
      ],
      "metadata": {
        "id": "_rphSXl2aSef"
      },
      "execution_count": 3,
      "outputs": []
    },
    {
      "cell_type": "code",
      "source": [
        "from pyspark import SparkFiles\n",
        "url = \"https://finalprojectanalysis-bucket.s3.us-east-2.amazonaws.com/clean_data.csv\"\n",
        "spark.sparkContext.addFile(url)\n",
        "df = spark.read.option(\"encoding\", \"UTF-8\").csv(SparkFiles.get(\"\"), sep=\",\", header=True, inferSchema=True)\n",
        "df.show()"
      ],
      "metadata": {
        "colab": {
          "base_uri": "https://localhost:8080/"
        },
        "id": "SoZzq_NUaZhQ",
        "outputId": "dfa6f285-cba4-466f-927a-20009a4f8325"
      },
      "execution_count": 5,
      "outputs": [
        {
          "output_type": "stream",
          "name": "stdout",
          "text": [
            "+------+-------+----------+------------+-------------+---------------+-----------------+----------+----------------+--------------+-------------+-----------+\n",
            "|Gender|Married|Dependents|   Education|Self_Employed|ApplicantIncome|CoapplicantIncome|LoanAmount|Loan_Amount_Term|Credit_History|Property_Area|Loan_Status|\n",
            "+------+-------+----------+------------+-------------+---------------+-----------------+----------+----------------+--------------+-------------+-----------+\n",
            "|  Male|    Yes|         1|    Graduate|           No|           4583|           1508.0|     128.0|           360.0|           1.0|        Rural|          N|\n",
            "|  Male|    Yes|         0|    Graduate|          Yes|           3000|              0.0|      66.0|           360.0|           1.0|        Urban|          Y|\n",
            "|  Male|    Yes|         0|Not Graduate|           No|           2583|           2358.0|     120.0|           360.0|           1.0|        Urban|          Y|\n",
            "|  Male|     No|         0|    Graduate|           No|           6000|              0.0|     141.0|           360.0|           1.0|        Urban|          Y|\n",
            "|  Male|    Yes|         2|    Graduate|          Yes|           5417|           4196.0|     267.0|           360.0|           1.0|        Urban|          Y|\n",
            "|  Male|    Yes|         0|Not Graduate|           No|           2333|           1516.0|      95.0|           360.0|           1.0|        Urban|          Y|\n",
            "|  Male|    Yes|        3+|    Graduate|           No|           3036|           2504.0|     158.0|           360.0|           0.0|    Semiurban|          N|\n",
            "|  Male|    Yes|         2|    Graduate|           No|           4006|           1526.0|     168.0|           360.0|           1.0|        Urban|          Y|\n",
            "|  Male|    Yes|         1|    Graduate|           No|          12841|          10968.0|     349.0|           360.0|           1.0|    Semiurban|          N|\n",
            "|  Male|    Yes|         2|    Graduate|           No|           3200|            700.0|      70.0|           360.0|           1.0|        Urban|          Y|\n",
            "|  Male|    Yes|         2|    Graduate|        Other|           2500|           1840.0|     109.0|           360.0|           1.0|        Urban|          Y|\n",
            "|  Male|    Yes|         2|    Graduate|           No|           3073|           8106.0|     200.0|           360.0|           1.0|        Urban|          Y|\n",
            "|  Male|     No|         0|    Graduate|           No|           1853|           2840.0|     114.0|           360.0|           1.0|        Rural|          N|\n",
            "|  Male|    Yes|         2|    Graduate|           No|           1299|           1086.0|      17.0|           120.0|           1.0|        Urban|          Y|\n",
            "|  Male|     No|         0|    Graduate|           No|           4950|              0.0|     125.0|           360.0|           1.0|        Urban|          Y|\n",
            "|Female|     No|         0|    Graduate|           No|           3510|              0.0|      76.0|           360.0|           0.0|        Urban|          N|\n",
            "|  Male|    Yes|         0|Not Graduate|           No|           4887|              0.0|     133.0|           360.0|           1.0|        Rural|          N|\n",
            "|  Male|    Yes|         0|Not Graduate|           No|           7660|              0.0|     104.0|           360.0|           0.0|        Urban|          N|\n",
            "|  Male|    Yes|         1|    Graduate|           No|           5955|           5625.0|     315.0|           360.0|           1.0|        Urban|          Y|\n",
            "|  Male|    Yes|         0|Not Graduate|           No|           2600|           1911.0|     116.0|           360.0|           0.0|    Semiurban|          N|\n",
            "+------+-------+----------+------------+-------------+---------------+-----------------+----------+----------------+--------------+-------------+-----------+\n",
            "only showing top 20 rows\n",
            "\n"
          ]
        }
      ]
    },
    {
      "cell_type": "code",
      "source": [
        "Loan_Status_Analysis_df = df.select([\"Gender\", \"Married\",\"Dependents\", \"Education\", \"Self_Employed\", \"ApplicantIncome\", \"CoapplicantIncome\", \"LoanAmount\", \"Loan_Amount_Term\",   \"Property_Area\"]) \n",
        "Loan_Status_Analysis_df.show(5)"
      ],
      "metadata": {
        "colab": {
          "base_uri": "https://localhost:8080/"
        },
        "id": "zDnE9ZK_4F16",
        "outputId": "f2516c70-bf76-410d-80ad-25c402e43253"
      },
      "execution_count": 6,
      "outputs": [
        {
          "output_type": "stream",
          "name": "stdout",
          "text": [
            "+------+-------+----------+------------+-------------+---------------+-----------------+----------+----------------+-------------+\n",
            "|Gender|Married|Dependents|   Education|Self_Employed|ApplicantIncome|CoapplicantIncome|LoanAmount|Loan_Amount_Term|Property_Area|\n",
            "+------+-------+----------+------------+-------------+---------------+-----------------+----------+----------------+-------------+\n",
            "|  Male|    Yes|         1|    Graduate|           No|           4583|           1508.0|     128.0|           360.0|        Rural|\n",
            "|  Male|    Yes|         0|    Graduate|          Yes|           3000|              0.0|      66.0|           360.0|        Urban|\n",
            "|  Male|    Yes|         0|Not Graduate|           No|           2583|           2358.0|     120.0|           360.0|        Urban|\n",
            "|  Male|     No|         0|    Graduate|           No|           6000|              0.0|     141.0|           360.0|        Urban|\n",
            "|  Male|    Yes|         2|    Graduate|          Yes|           5417|           4196.0|     267.0|           360.0|        Urban|\n",
            "+------+-------+----------+------------+-------------+---------------+-----------------+----------+----------------+-------------+\n",
            "only showing top 5 rows\n",
            "\n"
          ]
        }
      ]
    },
    {
      "cell_type": "code",
      "source": [
        "Loan_Status_Analysis_df.dtypes"
      ],
      "metadata": {
        "colab": {
          "base_uri": "https://localhost:8080/"
        },
        "id": "biaEaMThiVqt",
        "outputId": "4258d2c4-ce07-4e9f-e8c4-c65d25703ba9"
      },
      "execution_count": 10,
      "outputs": [
        {
          "output_type": "execute_result",
          "data": {
            "text/plain": [
              "[('Gender', 'string'),\n",
              " ('Married', 'string'),\n",
              " ('Dependents', 'string'),\n",
              " ('Education', 'string'),\n",
              " ('Self_Employed', 'string'),\n",
              " ('ApplicantIncome', 'int'),\n",
              " ('CoapplicantIncome', 'double'),\n",
              " ('LoanAmount', 'double'),\n",
              " ('Loan_Amount_Term', 'double'),\n",
              " ('Property_Area', 'string')]"
            ]
          },
          "metadata": {},
          "execution_count": 10
        }
      ]
    },
    {
      "cell_type": "code",
      "source": [
        "Loan_Status_Analysis_df = Loan_Status_Analysis_df.withColumnRenamed('Gender', 'gender') \\\n",
        "                       .withColumnRenamed('Married', 'married') \\\n",
        "                       .withColumnRenamed('Dependents', 'dependents') \\\n",
        "                       .withColumnRenamed('Education', 'education') \\\n",
        "                       .withColumnRenamed('Self_Employed', 'self_employed') \\\n",
        "                       .withColumnRenamed('ApplicantIncome', 'applicantincome') \\\n",
        "                       .withColumnRenamed('CoapplicantIncome', 'coapplicantincome') \\\n",
        "                       .withColumnRenamed('LoanAmount', 'loanamount') \\\n",
        "                       .withColumnRenamed('Loan_Amount_Term', 'loan_amount_term') \\\n",
        "                       .withColumnRenamed('Property_Area', 'property_area')"
      ],
      "metadata": {
        "id": "V0VR4R4HnaTz"
      },
      "execution_count": 16,
      "outputs": []
    },
    {
      "cell_type": "code",
      "source": [
        "Loan_Status_Analysis_df.dtypes"
      ],
      "metadata": {
        "colab": {
          "base_uri": "https://localhost:8080/"
        },
        "id": "7qUbB0LIodfN",
        "outputId": "b0c120e5-88a1-4648-80df-8086e2cb3a68"
      },
      "execution_count": 17,
      "outputs": [
        {
          "output_type": "execute_result",
          "data": {
            "text/plain": [
              "[('gender', 'string'),\n",
              " ('married', 'string'),\n",
              " ('dependents', 'string'),\n",
              " ('education', 'string'),\n",
              " ('self_employed', 'string'),\n",
              " ('applicantincome', 'int'),\n",
              " ('coapplicantincome', 'double'),\n",
              " ('loanamount', 'double'),\n",
              " ('loan_amount_term', 'double'),\n",
              " ('property_area', 'string')]"
            ]
          },
          "metadata": {},
          "execution_count": 17
        }
      ]
    },
    {
      "cell_type": "code",
      "source": [
        "# Store environmental variable\n",
        "from getpass import getpass\n",
        "password = getpass('Enter database password')\n",
        "# Configure settings for RDS\n",
        "mode = \"append\"\n",
        "jdbc_url=\"jdbc:postgresql://finaldata.c0wpgfafgz6f.us-east-2.rds.amazonaws.com:5432/\"\n",
        "config = {\"user\":\"postgres\", \n",
        "          \"password\": password, \n",
        "          \"driver\":\"org.postgresql.Driver\"}"
      ],
      "metadata": {
        "colab": {
          "base_uri": "https://localhost:8080/"
        },
        "id": "2yn7XzQ7doSN",
        "outputId": "afaf295a-fd03-4d42-b940-35c233b76f73"
      },
      "execution_count": 18,
      "outputs": [
        {
          "name": "stdout",
          "output_type": "stream",
          "text": [
            "Enter database password··········\n"
          ]
        }
      ]
    },
    {
      "cell_type": "code",
      "source": [
        "# Write df to table in RDS\n",
        "Loan_Status_Analysis_df.write.jdbc(url=jdbc_url, table='loan_status_analysis_table', mode=mode, properties=config)"
      ],
      "metadata": {
        "id": "FPvHSFXvducG"
      },
      "execution_count": 20,
      "outputs": []
    }
  ]
}