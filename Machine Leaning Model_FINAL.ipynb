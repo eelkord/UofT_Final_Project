{
 "cells": [
  {
   "cell_type": "code",
   "execution_count": 91,
   "id": "a9175392",
   "metadata": {},
   "outputs": [],
   "source": [
    "# Imports\n",
    "import matplotlib.pyplot as plt\n",
    "import pandas as pd\n",
    "from sklearn.preprocessing import StandardScaler\n",
    "from sklearn.model_selection import train_test_split\n",
    "from sklearn.linear_model import LogisticRegression\n",
    "from sklearn.metrics import accuracy_score\n",
    "from sklearn.metrics import confusion_matrix, classification_report\n",
    "from sklearn.preprocessing import StandardScaler\n",
    "from sklearn.preprocessing import LabelEncoder\n",
    "\n",
    "from path import Path\n",
    "from sklearn import tree\n",
    "\n",
    "from collections import Counter"
   ]
  },
  {
   "cell_type": "code",
   "execution_count": 92,
   "id": "efc81ccc",
   "metadata": {},
   "outputs": [
    {
     "data": {
      "text/html": [
       "<div>\n",
       "<style scoped>\n",
       "    .dataframe tbody tr th:only-of-type {\n",
       "        vertical-align: middle;\n",
       "    }\n",
       "\n",
       "    .dataframe tbody tr th {\n",
       "        vertical-align: top;\n",
       "    }\n",
       "\n",
       "    .dataframe thead th {\n",
       "        text-align: right;\n",
       "    }\n",
       "</style>\n",
       "<table border=\"1\" class=\"dataframe\">\n",
       "  <thead>\n",
       "    <tr style=\"text-align: right;\">\n",
       "      <th></th>\n",
       "      <th>Gender</th>\n",
       "      <th>Married</th>\n",
       "      <th>Dependents</th>\n",
       "      <th>Education</th>\n",
       "      <th>Self_Employed</th>\n",
       "      <th>ApplicantIncome</th>\n",
       "      <th>CoapplicantIncome</th>\n",
       "      <th>LoanAmount</th>\n",
       "      <th>Loan_Amount_Term</th>\n",
       "      <th>Credit_History</th>\n",
       "      <th>Property_Area</th>\n",
       "      <th>Loan_Status</th>\n",
       "    </tr>\n",
       "  </thead>\n",
       "  <tbody>\n",
       "    <tr>\n",
       "      <th>0</th>\n",
       "      <td>Male</td>\n",
       "      <td>Yes</td>\n",
       "      <td>1</td>\n",
       "      <td>Graduate</td>\n",
       "      <td>No</td>\n",
       "      <td>4583</td>\n",
       "      <td>1508.0</td>\n",
       "      <td>128.0</td>\n",
       "      <td>360.0</td>\n",
       "      <td>1.0</td>\n",
       "      <td>Rural</td>\n",
       "      <td>N</td>\n",
       "    </tr>\n",
       "    <tr>\n",
       "      <th>1</th>\n",
       "      <td>Male</td>\n",
       "      <td>Yes</td>\n",
       "      <td>0</td>\n",
       "      <td>Graduate</td>\n",
       "      <td>Yes</td>\n",
       "      <td>3000</td>\n",
       "      <td>0.0</td>\n",
       "      <td>66.0</td>\n",
       "      <td>360.0</td>\n",
       "      <td>1.0</td>\n",
       "      <td>Urban</td>\n",
       "      <td>Y</td>\n",
       "    </tr>\n",
       "    <tr>\n",
       "      <th>2</th>\n",
       "      <td>Male</td>\n",
       "      <td>Yes</td>\n",
       "      <td>0</td>\n",
       "      <td>Not Graduate</td>\n",
       "      <td>No</td>\n",
       "      <td>2583</td>\n",
       "      <td>2358.0</td>\n",
       "      <td>120.0</td>\n",
       "      <td>360.0</td>\n",
       "      <td>1.0</td>\n",
       "      <td>Urban</td>\n",
       "      <td>Y</td>\n",
       "    </tr>\n",
       "    <tr>\n",
       "      <th>3</th>\n",
       "      <td>Male</td>\n",
       "      <td>No</td>\n",
       "      <td>0</td>\n",
       "      <td>Graduate</td>\n",
       "      <td>No</td>\n",
       "      <td>6000</td>\n",
       "      <td>0.0</td>\n",
       "      <td>141.0</td>\n",
       "      <td>360.0</td>\n",
       "      <td>1.0</td>\n",
       "      <td>Urban</td>\n",
       "      <td>Y</td>\n",
       "    </tr>\n",
       "    <tr>\n",
       "      <th>4</th>\n",
       "      <td>Male</td>\n",
       "      <td>Yes</td>\n",
       "      <td>2</td>\n",
       "      <td>Graduate</td>\n",
       "      <td>Yes</td>\n",
       "      <td>5417</td>\n",
       "      <td>4196.0</td>\n",
       "      <td>267.0</td>\n",
       "      <td>360.0</td>\n",
       "      <td>1.0</td>\n",
       "      <td>Urban</td>\n",
       "      <td>Y</td>\n",
       "    </tr>\n",
       "  </tbody>\n",
       "</table>\n",
       "</div>"
      ],
      "text/plain": [
       "  Gender Married Dependents     Education Self_Employed  ApplicantIncome  \\\n",
       "0   Male     Yes          1      Graduate            No             4583   \n",
       "1   Male     Yes          0      Graduate           Yes             3000   \n",
       "2   Male     Yes          0  Not Graduate            No             2583   \n",
       "3   Male      No          0      Graduate            No             6000   \n",
       "4   Male     Yes          2      Graduate           Yes             5417   \n",
       "\n",
       "   CoapplicantIncome  LoanAmount  Loan_Amount_Term  Credit_History  \\\n",
       "0             1508.0       128.0             360.0             1.0   \n",
       "1                0.0        66.0             360.0             1.0   \n",
       "2             2358.0       120.0             360.0             1.0   \n",
       "3                0.0       141.0             360.0             1.0   \n",
       "4             4196.0       267.0             360.0             1.0   \n",
       "\n",
       "  Property_Area Loan_Status  \n",
       "0         Rural           N  \n",
       "1         Urban           Y  \n",
       "2         Urban           Y  \n",
       "3         Urban           Y  \n",
       "4         Urban           Y  "
      ]
     },
     "execution_count": 92,
     "metadata": {},
     "output_type": "execute_result"
    }
   ],
   "source": [
    "# Reading the file into Dataframe\n",
    "df_loan = pd.read_csv('https://finalprojectanalysis-bucket.s3.us-east-2.amazonaws.com/clean_data.csv')\n",
    "df_loan.head()"
   ]
  },
  {
   "cell_type": "code",
   "execution_count": 93,
   "id": "e83881d7",
   "metadata": {},
   "outputs": [
    {
     "data": {
      "text/html": [
       "<div>\n",
       "<style scoped>\n",
       "    .dataframe tbody tr th:only-of-type {\n",
       "        vertical-align: middle;\n",
       "    }\n",
       "\n",
       "    .dataframe tbody tr th {\n",
       "        vertical-align: top;\n",
       "    }\n",
       "\n",
       "    .dataframe thead th {\n",
       "        text-align: right;\n",
       "    }\n",
       "</style>\n",
       "<table border=\"1\" class=\"dataframe\">\n",
       "  <thead>\n",
       "    <tr style=\"text-align: right;\">\n",
       "      <th></th>\n",
       "      <th>ApplicantIncome</th>\n",
       "      <th>CoapplicantIncome</th>\n",
       "      <th>LoanAmount</th>\n",
       "      <th>Loan_Amount_Term</th>\n",
       "      <th>Credit_History</th>\n",
       "    </tr>\n",
       "  </thead>\n",
       "  <tbody>\n",
       "    <tr>\n",
       "      <th>count</th>\n",
       "      <td>505.000000</td>\n",
       "      <td>505.000000</td>\n",
       "      <td>505.000000</td>\n",
       "      <td>505.000000</td>\n",
       "      <td>505.000000</td>\n",
       "    </tr>\n",
       "    <tr>\n",
       "      <th>mean</th>\n",
       "      <td>5411.427723</td>\n",
       "      <td>1562.978059</td>\n",
       "      <td>144.566337</td>\n",
       "      <td>341.869307</td>\n",
       "      <td>0.859406</td>\n",
       "    </tr>\n",
       "    <tr>\n",
       "      <th>std</th>\n",
       "      <td>6127.874416</td>\n",
       "      <td>2564.980770</td>\n",
       "      <td>81.306177</td>\n",
       "      <td>64.900341</td>\n",
       "      <td>0.347947</td>\n",
       "    </tr>\n",
       "    <tr>\n",
       "      <th>min</th>\n",
       "      <td>150.000000</td>\n",
       "      <td>0.000000</td>\n",
       "      <td>9.000000</td>\n",
       "      <td>36.000000</td>\n",
       "      <td>0.000000</td>\n",
       "    </tr>\n",
       "    <tr>\n",
       "      <th>25%</th>\n",
       "      <td>2895.000000</td>\n",
       "      <td>0.000000</td>\n",
       "      <td>100.000000</td>\n",
       "      <td>360.000000</td>\n",
       "      <td>1.000000</td>\n",
       "    </tr>\n",
       "    <tr>\n",
       "      <th>50%</th>\n",
       "      <td>3833.000000</td>\n",
       "      <td>1126.000000</td>\n",
       "      <td>128.000000</td>\n",
       "      <td>360.000000</td>\n",
       "      <td>1.000000</td>\n",
       "    </tr>\n",
       "    <tr>\n",
       "      <th>75%</th>\n",
       "      <td>5818.000000</td>\n",
       "      <td>2253.000000</td>\n",
       "      <td>167.000000</td>\n",
       "      <td>360.000000</td>\n",
       "      <td>1.000000</td>\n",
       "    </tr>\n",
       "    <tr>\n",
       "      <th>max</th>\n",
       "      <td>81000.000000</td>\n",
       "      <td>33837.000000</td>\n",
       "      <td>600.000000</td>\n",
       "      <td>480.000000</td>\n",
       "      <td>1.000000</td>\n",
       "    </tr>\n",
       "  </tbody>\n",
       "</table>\n",
       "</div>"
      ],
      "text/plain": [
       "       ApplicantIncome  CoapplicantIncome  LoanAmount  Loan_Amount_Term  \\\n",
       "count       505.000000         505.000000  505.000000        505.000000   \n",
       "mean       5411.427723        1562.978059  144.566337        341.869307   \n",
       "std        6127.874416        2564.980770   81.306177         64.900341   \n",
       "min         150.000000           0.000000    9.000000         36.000000   \n",
       "25%        2895.000000           0.000000  100.000000        360.000000   \n",
       "50%        3833.000000        1126.000000  128.000000        360.000000   \n",
       "75%        5818.000000        2253.000000  167.000000        360.000000   \n",
       "max       81000.000000       33837.000000  600.000000        480.000000   \n",
       "\n",
       "       Credit_History  \n",
       "count      505.000000  \n",
       "mean         0.859406  \n",
       "std          0.347947  \n",
       "min          0.000000  \n",
       "25%          1.000000  \n",
       "50%          1.000000  \n",
       "75%          1.000000  \n",
       "max          1.000000  "
      ]
     },
     "execution_count": 93,
     "metadata": {},
     "output_type": "execute_result"
    }
   ],
   "source": [
    "# Identifying the outliers,spread (for scaling)\n",
    "df_loan.describe()"
   ]
  },
  {
   "cell_type": "code",
   "execution_count": 94,
   "id": "bce2879b",
   "metadata": {},
   "outputs": [],
   "source": [
    "# Removing outliers\n",
    "df_loan = df_loan.loc[(df_loan[\"ApplicantIncome\"] < 50000)] "
   ]
  },
  {
   "cell_type": "code",
   "execution_count": 95,
   "id": "692c00c8",
   "metadata": {},
   "outputs": [],
   "source": [
    "df_loan = df_loan.loc[(df_loan[\"ApplicantIncome\"] > 1000)]"
   ]
  },
  {
   "cell_type": "code",
   "execution_count": 96,
   "id": "e4f099fa",
   "metadata": {},
   "outputs": [
    {
     "data": {
      "text/plain": [
       "(499, 12)"
      ]
     },
     "execution_count": 96,
     "metadata": {},
     "output_type": "execute_result"
    }
   ],
   "source": [
    "df_loan.shape"
   ]
  },
  {
   "cell_type": "code",
   "execution_count": 97,
   "id": "0de0e9fb",
   "metadata": {},
   "outputs": [],
   "source": [
    "# Creating a new column\n",
    "df_loan ['Total_Income'] = df_loan ['ApplicantIncome'] + df_loan ['CoapplicantIncome']"
   ]
  },
  {
   "cell_type": "code",
   "execution_count": 98,
   "id": "f183b567",
   "metadata": {},
   "outputs": [],
   "source": [
    "#Remving dpendents\n",
    "#df_loan.drop(\"Dependents\", axis=1, inplace=True)"
   ]
  },
  {
   "cell_type": "code",
   "execution_count": 99,
   "id": "05be94f3",
   "metadata": {},
   "outputs": [
    {
     "data": {
      "text/html": [
       "<div>\n",
       "<style scoped>\n",
       "    .dataframe tbody tr th:only-of-type {\n",
       "        vertical-align: middle;\n",
       "    }\n",
       "\n",
       "    .dataframe tbody tr th {\n",
       "        vertical-align: top;\n",
       "    }\n",
       "\n",
       "    .dataframe thead th {\n",
       "        text-align: right;\n",
       "    }\n",
       "</style>\n",
       "<table border=\"1\" class=\"dataframe\">\n",
       "  <thead>\n",
       "    <tr style=\"text-align: right;\">\n",
       "      <th></th>\n",
       "      <th>Gender</th>\n",
       "      <th>Married</th>\n",
       "      <th>Dependents</th>\n",
       "      <th>Education</th>\n",
       "      <th>Self_Employed</th>\n",
       "      <th>ApplicantIncome</th>\n",
       "      <th>CoapplicantIncome</th>\n",
       "      <th>LoanAmount</th>\n",
       "      <th>Loan_Amount_Term</th>\n",
       "      <th>Credit_History</th>\n",
       "      <th>Property_Area</th>\n",
       "      <th>Loan_Status</th>\n",
       "      <th>Total_Income</th>\n",
       "    </tr>\n",
       "  </thead>\n",
       "  <tbody>\n",
       "    <tr>\n",
       "      <th>0</th>\n",
       "      <td>Male</td>\n",
       "      <td>Yes</td>\n",
       "      <td>1</td>\n",
       "      <td>Graduate</td>\n",
       "      <td>No</td>\n",
       "      <td>4583</td>\n",
       "      <td>1508.0</td>\n",
       "      <td>128.0</td>\n",
       "      <td>360.0</td>\n",
       "      <td>1.0</td>\n",
       "      <td>Rural</td>\n",
       "      <td>N</td>\n",
       "      <td>6091.0</td>\n",
       "    </tr>\n",
       "    <tr>\n",
       "      <th>1</th>\n",
       "      <td>Male</td>\n",
       "      <td>Yes</td>\n",
       "      <td>0</td>\n",
       "      <td>Graduate</td>\n",
       "      <td>Yes</td>\n",
       "      <td>3000</td>\n",
       "      <td>0.0</td>\n",
       "      <td>66.0</td>\n",
       "      <td>360.0</td>\n",
       "      <td>1.0</td>\n",
       "      <td>Urban</td>\n",
       "      <td>Y</td>\n",
       "      <td>3000.0</td>\n",
       "    </tr>\n",
       "    <tr>\n",
       "      <th>2</th>\n",
       "      <td>Male</td>\n",
       "      <td>Yes</td>\n",
       "      <td>0</td>\n",
       "      <td>Not Graduate</td>\n",
       "      <td>No</td>\n",
       "      <td>2583</td>\n",
       "      <td>2358.0</td>\n",
       "      <td>120.0</td>\n",
       "      <td>360.0</td>\n",
       "      <td>1.0</td>\n",
       "      <td>Urban</td>\n",
       "      <td>Y</td>\n",
       "      <td>4941.0</td>\n",
       "    </tr>\n",
       "    <tr>\n",
       "      <th>3</th>\n",
       "      <td>Male</td>\n",
       "      <td>No</td>\n",
       "      <td>0</td>\n",
       "      <td>Graduate</td>\n",
       "      <td>No</td>\n",
       "      <td>6000</td>\n",
       "      <td>0.0</td>\n",
       "      <td>141.0</td>\n",
       "      <td>360.0</td>\n",
       "      <td>1.0</td>\n",
       "      <td>Urban</td>\n",
       "      <td>Y</td>\n",
       "      <td>6000.0</td>\n",
       "    </tr>\n",
       "    <tr>\n",
       "      <th>4</th>\n",
       "      <td>Male</td>\n",
       "      <td>Yes</td>\n",
       "      <td>2</td>\n",
       "      <td>Graduate</td>\n",
       "      <td>Yes</td>\n",
       "      <td>5417</td>\n",
       "      <td>4196.0</td>\n",
       "      <td>267.0</td>\n",
       "      <td>360.0</td>\n",
       "      <td>1.0</td>\n",
       "      <td>Urban</td>\n",
       "      <td>Y</td>\n",
       "      <td>9613.0</td>\n",
       "    </tr>\n",
       "  </tbody>\n",
       "</table>\n",
       "</div>"
      ],
      "text/plain": [
       "  Gender Married Dependents     Education Self_Employed  ApplicantIncome  \\\n",
       "0   Male     Yes          1      Graduate            No             4583   \n",
       "1   Male     Yes          0      Graduate           Yes             3000   \n",
       "2   Male     Yes          0  Not Graduate            No             2583   \n",
       "3   Male      No          0      Graduate            No             6000   \n",
       "4   Male     Yes          2      Graduate           Yes             5417   \n",
       "\n",
       "   CoapplicantIncome  LoanAmount  Loan_Amount_Term  Credit_History  \\\n",
       "0             1508.0       128.0             360.0             1.0   \n",
       "1                0.0        66.0             360.0             1.0   \n",
       "2             2358.0       120.0             360.0             1.0   \n",
       "3                0.0       141.0             360.0             1.0   \n",
       "4             4196.0       267.0             360.0             1.0   \n",
       "\n",
       "  Property_Area Loan_Status  Total_Income  \n",
       "0         Rural           N        6091.0  \n",
       "1         Urban           Y        3000.0  \n",
       "2         Urban           Y        4941.0  \n",
       "3         Urban           Y        6000.0  \n",
       "4         Urban           Y        9613.0  "
      ]
     },
     "execution_count": 99,
     "metadata": {},
     "output_type": "execute_result"
    }
   ],
   "source": [
    "df_loan.head()"
   ]
  },
  {
   "cell_type": "code",
   "execution_count": 100,
   "id": "34a1ac03",
   "metadata": {},
   "outputs": [],
   "source": [
    "#pd.getdummies to encode\n",
    "df_loan_encoded = pd.get_dummies(df_loan, columns=[\"Gender\",\"Education\",\"Dependents\",\"Property_Area\",\"Self_Employed\",\"Married\"])"
   ]
  },
  {
   "cell_type": "code",
   "execution_count": 101,
   "id": "ac7df8b5",
   "metadata": {},
   "outputs": [],
   "source": [
    "# Creating Encode instancce \n",
    "lbl_encode = LabelEncoder()"
   ]
  },
  {
   "cell_type": "code",
   "execution_count": 102,
   "id": "93cee7ff",
   "metadata": {},
   "outputs": [],
   "source": [
    "# Encode Loan_Status Column\n",
    "df_loan_encoded['Loan_Status_label']=lbl_encode.fit_transform(df_loan_encoded['Loan_Status'])"
   ]
  },
  {
   "cell_type": "code",
   "execution_count": 103,
   "id": "f04733b2",
   "metadata": {},
   "outputs": [
    {
     "data": {
      "text/html": [
       "<div>\n",
       "<style scoped>\n",
       "    .dataframe tbody tr th:only-of-type {\n",
       "        vertical-align: middle;\n",
       "    }\n",
       "\n",
       "    .dataframe tbody tr th {\n",
       "        vertical-align: top;\n",
       "    }\n",
       "\n",
       "    .dataframe thead th {\n",
       "        text-align: right;\n",
       "    }\n",
       "</style>\n",
       "<table border=\"1\" class=\"dataframe\">\n",
       "  <thead>\n",
       "    <tr style=\"text-align: right;\">\n",
       "      <th></th>\n",
       "      <th>ApplicantIncome</th>\n",
       "      <th>CoapplicantIncome</th>\n",
       "      <th>LoanAmount</th>\n",
       "      <th>Loan_Amount_Term</th>\n",
       "      <th>Credit_History</th>\n",
       "      <th>Loan_Status</th>\n",
       "      <th>Total_Income</th>\n",
       "      <th>Gender_Female</th>\n",
       "      <th>Gender_Male</th>\n",
       "      <th>Education_Graduate</th>\n",
       "      <th>...</th>\n",
       "      <th>Dependents_3+</th>\n",
       "      <th>Property_Area_Rural</th>\n",
       "      <th>Property_Area_Semiurban</th>\n",
       "      <th>Property_Area_Urban</th>\n",
       "      <th>Self_Employed_No</th>\n",
       "      <th>Self_Employed_Other</th>\n",
       "      <th>Self_Employed_Yes</th>\n",
       "      <th>Married_No</th>\n",
       "      <th>Married_Yes</th>\n",
       "      <th>Loan_Status_label</th>\n",
       "    </tr>\n",
       "  </thead>\n",
       "  <tbody>\n",
       "    <tr>\n",
       "      <th>0</th>\n",
       "      <td>4583</td>\n",
       "      <td>1508.0</td>\n",
       "      <td>128.0</td>\n",
       "      <td>360.0</td>\n",
       "      <td>1.0</td>\n",
       "      <td>N</td>\n",
       "      <td>6091.0</td>\n",
       "      <td>0</td>\n",
       "      <td>1</td>\n",
       "      <td>1</td>\n",
       "      <td>...</td>\n",
       "      <td>0</td>\n",
       "      <td>1</td>\n",
       "      <td>0</td>\n",
       "      <td>0</td>\n",
       "      <td>1</td>\n",
       "      <td>0</td>\n",
       "      <td>0</td>\n",
       "      <td>0</td>\n",
       "      <td>1</td>\n",
       "      <td>0</td>\n",
       "    </tr>\n",
       "    <tr>\n",
       "      <th>1</th>\n",
       "      <td>3000</td>\n",
       "      <td>0.0</td>\n",
       "      <td>66.0</td>\n",
       "      <td>360.0</td>\n",
       "      <td>1.0</td>\n",
       "      <td>Y</td>\n",
       "      <td>3000.0</td>\n",
       "      <td>0</td>\n",
       "      <td>1</td>\n",
       "      <td>1</td>\n",
       "      <td>...</td>\n",
       "      <td>0</td>\n",
       "      <td>0</td>\n",
       "      <td>0</td>\n",
       "      <td>1</td>\n",
       "      <td>0</td>\n",
       "      <td>0</td>\n",
       "      <td>1</td>\n",
       "      <td>0</td>\n",
       "      <td>1</td>\n",
       "      <td>1</td>\n",
       "    </tr>\n",
       "    <tr>\n",
       "      <th>2</th>\n",
       "      <td>2583</td>\n",
       "      <td>2358.0</td>\n",
       "      <td>120.0</td>\n",
       "      <td>360.0</td>\n",
       "      <td>1.0</td>\n",
       "      <td>Y</td>\n",
       "      <td>4941.0</td>\n",
       "      <td>0</td>\n",
       "      <td>1</td>\n",
       "      <td>0</td>\n",
       "      <td>...</td>\n",
       "      <td>0</td>\n",
       "      <td>0</td>\n",
       "      <td>0</td>\n",
       "      <td>1</td>\n",
       "      <td>1</td>\n",
       "      <td>0</td>\n",
       "      <td>0</td>\n",
       "      <td>0</td>\n",
       "      <td>1</td>\n",
       "      <td>1</td>\n",
       "    </tr>\n",
       "    <tr>\n",
       "      <th>3</th>\n",
       "      <td>6000</td>\n",
       "      <td>0.0</td>\n",
       "      <td>141.0</td>\n",
       "      <td>360.0</td>\n",
       "      <td>1.0</td>\n",
       "      <td>Y</td>\n",
       "      <td>6000.0</td>\n",
       "      <td>0</td>\n",
       "      <td>1</td>\n",
       "      <td>1</td>\n",
       "      <td>...</td>\n",
       "      <td>0</td>\n",
       "      <td>0</td>\n",
       "      <td>0</td>\n",
       "      <td>1</td>\n",
       "      <td>1</td>\n",
       "      <td>0</td>\n",
       "      <td>0</td>\n",
       "      <td>1</td>\n",
       "      <td>0</td>\n",
       "      <td>1</td>\n",
       "    </tr>\n",
       "    <tr>\n",
       "      <th>4</th>\n",
       "      <td>5417</td>\n",
       "      <td>4196.0</td>\n",
       "      <td>267.0</td>\n",
       "      <td>360.0</td>\n",
       "      <td>1.0</td>\n",
       "      <td>Y</td>\n",
       "      <td>9613.0</td>\n",
       "      <td>0</td>\n",
       "      <td>1</td>\n",
       "      <td>1</td>\n",
       "      <td>...</td>\n",
       "      <td>0</td>\n",
       "      <td>0</td>\n",
       "      <td>0</td>\n",
       "      <td>1</td>\n",
       "      <td>0</td>\n",
       "      <td>0</td>\n",
       "      <td>1</td>\n",
       "      <td>0</td>\n",
       "      <td>1</td>\n",
       "      <td>1</td>\n",
       "    </tr>\n",
       "  </tbody>\n",
       "</table>\n",
       "<p>5 rows × 24 columns</p>\n",
       "</div>"
      ],
      "text/plain": [
       "   ApplicantIncome  CoapplicantIncome  LoanAmount  Loan_Amount_Term  \\\n",
       "0             4583             1508.0       128.0             360.0   \n",
       "1             3000                0.0        66.0             360.0   \n",
       "2             2583             2358.0       120.0             360.0   \n",
       "3             6000                0.0       141.0             360.0   \n",
       "4             5417             4196.0       267.0             360.0   \n",
       "\n",
       "   Credit_History Loan_Status  Total_Income  Gender_Female  Gender_Male  \\\n",
       "0             1.0           N        6091.0              0            1   \n",
       "1             1.0           Y        3000.0              0            1   \n",
       "2             1.0           Y        4941.0              0            1   \n",
       "3             1.0           Y        6000.0              0            1   \n",
       "4             1.0           Y        9613.0              0            1   \n",
       "\n",
       "   Education_Graduate  ...  Dependents_3+  Property_Area_Rural  \\\n",
       "0                   1  ...              0                    1   \n",
       "1                   1  ...              0                    0   \n",
       "2                   0  ...              0                    0   \n",
       "3                   1  ...              0                    0   \n",
       "4                   1  ...              0                    0   \n",
       "\n",
       "   Property_Area_Semiurban  Property_Area_Urban  Self_Employed_No  \\\n",
       "0                        0                    0                 1   \n",
       "1                        0                    1                 0   \n",
       "2                        0                    1                 1   \n",
       "3                        0                    1                 1   \n",
       "4                        0                    1                 0   \n",
       "\n",
       "   Self_Employed_Other  Self_Employed_Yes  Married_No  Married_Yes  \\\n",
       "0                    0                  0           0            1   \n",
       "1                    0                  1           0            1   \n",
       "2                    0                  0           0            1   \n",
       "3                    0                  0           1            0   \n",
       "4                    0                  1           0            1   \n",
       "\n",
       "   Loan_Status_label  \n",
       "0                  0  \n",
       "1                  1  \n",
       "2                  1  \n",
       "3                  1  \n",
       "4                  1  \n",
       "\n",
       "[5 rows x 24 columns]"
      ]
     },
     "execution_count": 103,
     "metadata": {},
     "output_type": "execute_result"
    }
   ],
   "source": [
    "df_loan_encoded.head()"
   ]
  },
  {
   "cell_type": "code",
   "execution_count": 104,
   "id": "2296aa8c",
   "metadata": {},
   "outputs": [],
   "source": [
    "# Define features\n",
    "y = df_loan_encoded[\"Loan_Status_label\"]\n",
    "X = df_loan_encoded.drop(columns=['Loan_Status','Loan_Status_label'])"
   ]
  },
  {
   "cell_type": "code",
   "execution_count": 105,
   "id": "a48868ee",
   "metadata": {},
   "outputs": [
    {
     "data": {
      "text/plain": [
       "Counter({0: 149, 1: 350})"
      ]
     },
     "execution_count": 105,
     "metadata": {},
     "output_type": "execute_result"
    }
   ],
   "source": [
    "Counter(y)"
   ]
  },
  {
   "cell_type": "code",
   "execution_count": 106,
   "id": "d819e485",
   "metadata": {},
   "outputs": [],
   "source": [
    "# Train test split (stratify=y to avoid worsening of the class imbalance)\n",
    "X_train, X_test, y_train, y_test = train_test_split(X,\n",
    "   y, random_state=1, stratify=y)"
   ]
  },
  {
   "cell_type": "code",
   "execution_count": 107,
   "id": "e289e3fd",
   "metadata": {},
   "outputs": [],
   "source": [
    "# Resample using Oversampling\n",
    "from imblearn.over_sampling import RandomOverSampler\n",
    "ros = RandomOverSampler(random_state=1)\n",
    "X_resampled, y_resampled = ros.fit_resample(X_train, y_train)"
   ]
  },
  {
   "cell_type": "code",
   "execution_count": 108,
   "id": "6e88e8f5",
   "metadata": {},
   "outputs": [],
   "source": [
    "# Resample\n",
    "#from imblearn.combine import SMOTEENN\n",
    "#smote_enn = SMOTEENN(random_state=1)\n",
    "#X_resampled, y_resampled = smote_enn.fit_resample(X_train, y_train)"
   ]
  },
  {
   "cell_type": "code",
   "execution_count": 109,
   "id": "9e600878",
   "metadata": {},
   "outputs": [
    {
     "data": {
      "text/plain": [
       "Counter({1: 262, 0: 262})"
      ]
     },
     "execution_count": 109,
     "metadata": {},
     "output_type": "execute_result"
    }
   ],
   "source": [
    "# Looking at Class imbalance (Mild imbalance 30%)\n",
    "Counter(y_resampled)"
   ]
  },
  {
   "cell_type": "code",
   "execution_count": 110,
   "id": "a5389906",
   "metadata": {},
   "outputs": [
    {
     "data": {
      "text/plain": [
       "Counter({1: 262, 0: 112})"
      ]
     },
     "execution_count": 110,
     "metadata": {},
     "output_type": "execute_result"
    }
   ],
   "source": [
    "#Checking Class imbalance in y_train\n",
    "Counter(y_train)"
   ]
  },
  {
   "cell_type": "code",
   "execution_count": 111,
   "id": "2b9917c4",
   "metadata": {},
   "outputs": [
    {
     "data": {
      "text/plain": [
       "Counter({1: 88, 0: 37})"
      ]
     },
     "execution_count": 111,
     "metadata": {},
     "output_type": "execute_result"
    }
   ],
   "source": [
    "Counter (y_test)"
   ]
  },
  {
   "cell_type": "code",
   "execution_count": 112,
   "id": "24bcd494",
   "metadata": {},
   "outputs": [],
   "source": [
    "# Stadardizing and scaling\n",
    "from sklearn.preprocessing import StandardScaler\n",
    "# Creating stadard scaler instance\n",
    "sc = StandardScaler()\n",
    "\n",
    "# Fit and transform\n",
    "X_train_scaled = sc.fit_transform(X_resampled)\n",
    "X_test_scaled = sc.transform(X_test)"
   ]
  },
  {
   "cell_type": "code",
   "execution_count": 113,
   "id": "5c3ffe20",
   "metadata": {},
   "outputs": [],
   "source": [
    "# Insantiate model  SKLearn\n",
    "classifier = LogisticRegression(solver='lbfgs',\n",
    "   max_iter=400,\n",
    "   random_state=1)\n"
   ]
  },
  {
   "cell_type": "code",
   "execution_count": 114,
   "id": "6848b251",
   "metadata": {},
   "outputs": [
    {
     "data": {
      "text/plain": [
       "(374, 22)"
      ]
     },
     "execution_count": 114,
     "metadata": {},
     "output_type": "execute_result"
    }
   ],
   "source": [
    "X_train.shape"
   ]
  },
  {
   "cell_type": "code",
   "execution_count": 115,
   "id": "bb80f483",
   "metadata": {},
   "outputs": [
    {
     "data": {
      "text/plain": [
       "LogisticRegression(max_iter=400, random_state=1)"
      ]
     },
     "execution_count": 115,
     "metadata": {},
     "output_type": "execute_result"
    }
   ],
   "source": [
    "# Train the model\n",
    "classifier.fit(X_train_scaled, y_resampled)"
   ]
  },
  {
   "cell_type": "code",
   "execution_count": 116,
   "id": "ce782e39",
   "metadata": {},
   "outputs": [],
   "source": [
    "y_pred = classifier.predict(X_test_scaled)"
   ]
  },
  {
   "cell_type": "code",
   "execution_count": 117,
   "id": "9191999b",
   "metadata": {},
   "outputs": [
    {
     "data": {
      "text/plain": [
       "Counter({1: 89, 0: 36})"
      ]
     },
     "execution_count": 117,
     "metadata": {},
     "output_type": "execute_result"
    }
   ],
   "source": [
    "Counter (y_pred)"
   ]
  },
  {
   "cell_type": "code",
   "execution_count": 118,
   "id": "11e31fc2",
   "metadata": {},
   "outputs": [
    {
     "data": {
      "text/plain": [
       "Counter({1: 262, 0: 262})"
      ]
     },
     "execution_count": 118,
     "metadata": {},
     "output_type": "execute_result"
    }
   ],
   "source": [
    "Counter (y_resampled)"
   ]
  },
  {
   "cell_type": "code",
   "execution_count": 119,
   "id": "0131f88b",
   "metadata": {},
   "outputs": [
    {
     "name": "stdout",
     "output_type": "stream",
     "text": [
      "Accuracy Score\n",
      "0.8\n",
      "-----------------------------\n",
      "Confusion Matrix\n",
      "                             \n",
      "          Predicted 0  Predicted 1\n",
      "Actual 0           24           13\n",
      "Actual 1           12           76\n",
      "-----------------------------\n",
      "Classification Report\n",
      "                             \n",
      "              precision    recall  f1-score   support\n",
      "\n",
      "           0       0.67      0.65      0.66        37\n",
      "           1       0.85      0.86      0.86        88\n",
      "\n",
      "    accuracy                           0.80       125\n",
      "   macro avg       0.76      0.76      0.76       125\n",
      "weighted avg       0.80      0.80      0.80       125\n",
      "\n"
     ]
    }
   ],
   "source": [
    "# Print results\n",
    "print(\"Accuracy Score\")\n",
    "print(accuracy_score(y_test, y_pred))\n",
    "print (\"-----------------------------\")\n",
    "\n",
    "print(\"Confusion Matrix\")\n",
    "print (\"                             \")\n",
    "print(pd.DataFrame(\n",
    "    confusion_matrix(y_test, y_pred), index=[\"Actual 0\", \"Actual 1\"], columns=[\"Predicted 0\", \"Predicted 1\"])\n",
    ")\n",
    "print (\"-----------------------------\")\n",
    "\n",
    "print(\"Classification Report\")\n",
    "print (\"                             \")\n",
    "print(classification_report(y_test, y_pred))"
   ]
  },
  {
   "cell_type": "code",
   "execution_count": 120,
   "id": "7ca4bcca",
   "metadata": {},
   "outputs": [],
   "source": [
    "## DECISION TREE MODEL"
   ]
  },
  {
   "cell_type": "code",
   "execution_count": 121,
   "id": "c55ede2e",
   "metadata": {},
   "outputs": [],
   "source": [
    "# Creating the decision tree classifier instance.\n",
    "model = tree.DecisionTreeClassifier()\n",
    "# Fitting the model.\n",
    "model = model.fit(X_train_scaled, y_resampled)"
   ]
  },
  {
   "cell_type": "code",
   "execution_count": 122,
   "id": "33318173",
   "metadata": {},
   "outputs": [],
   "source": [
    "# Making predictions using the testing data.\n",
    "y_pred = model.predict(X_test_scaled)"
   ]
  },
  {
   "cell_type": "code",
   "execution_count": 123,
   "id": "770b13e7",
   "metadata": {},
   "outputs": [
    {
     "name": "stdout",
     "output_type": "stream",
     "text": [
      "Accuracy Score\n",
      "0.76\n",
      "-----------------------------\n",
      "Confusion Matrix\n",
      "                             \n",
      "          Predicted 0  Predicted 1\n",
      "Actual 0           20           17\n",
      "Actual 1           13           75\n",
      "-----------------------------\n",
      "Classification Report\n",
      "                             \n",
      "              precision    recall  f1-score   support\n",
      "\n",
      "           0       0.61      0.54      0.57        37\n",
      "           1       0.82      0.85      0.83        88\n",
      "\n",
      "    accuracy                           0.76       125\n",
      "   macro avg       0.71      0.70      0.70       125\n",
      "weighted avg       0.75      0.76      0.76       125\n",
      "\n"
     ]
    }
   ],
   "source": [
    "# Print results\n",
    "print(\"Accuracy Score\")\n",
    "print(accuracy_score(y_test, y_pred))\n",
    "print (\"-----------------------------\")\n",
    "\n",
    "print(\"Confusion Matrix\")\n",
    "print (\"                             \")\n",
    "print(pd.DataFrame(\n",
    "    confusion_matrix(y_test, y_pred), index=[\"Actual 0\", \"Actual 1\"], columns=[\"Predicted 0\", \"Predicted 1\"])\n",
    ")\n",
    "print (\"-----------------------------\")\n",
    "\n",
    "print(\"Classification Report\")\n",
    "print (\"                             \")\n",
    "print(classification_report(y_test, y_pred))"
   ]
  },
  {
   "cell_type": "code",
   "execution_count": 124,
   "id": "9258745c",
   "metadata": {},
   "outputs": [],
   "source": [
    "#random forest\n"
   ]
  },
  {
   "cell_type": "code",
   "execution_count": 125,
   "id": "42440b1f",
   "metadata": {},
   "outputs": [],
   "source": [
    "# Create a random forest classifier.\n",
    "from sklearn.ensemble import RandomForestClassifier\n",
    "rf_model = RandomForestClassifier(n_estimators=128, random_state=1) "
   ]
  },
  {
   "cell_type": "code",
   "execution_count": 126,
   "id": "88bc3490",
   "metadata": {},
   "outputs": [],
   "source": [
    "# Fitting the model\n",
    "rf_model = rf_model.fit(X_train_scaled, y_resampled)"
   ]
  },
  {
   "cell_type": "code",
   "execution_count": 127,
   "id": "4ab1367d",
   "metadata": {},
   "outputs": [],
   "source": [
    "# Making predictions using the testing data.\n",
    "y_pred = rf_model.predict(X_test_scaled)"
   ]
  },
  {
   "cell_type": "code",
   "execution_count": 128,
   "id": "2c6b9f78",
   "metadata": {},
   "outputs": [
    {
     "name": "stdout",
     "output_type": "stream",
     "text": [
      "0.792\n"
     ]
    }
   ],
   "source": [
    "# Calculating the accuracy score.\n",
    "acc_score=print(accuracy_score(y_test, y_pred))"
   ]
  },
  {
   "cell_type": "code",
   "execution_count": 129,
   "id": "3a69e5f1",
   "metadata": {
    "scrolled": true
   },
   "outputs": [
    {
     "name": "stdout",
     "output_type": "stream",
     "text": [
      "Accuracy Score\n",
      "0.792\n",
      "-----------------------------\n",
      "Confusion Matrix\n",
      "                             \n",
      "          Predicted 0  Predicted 1\n",
      "Actual 0           23           14\n",
      "Actual 1           12           76\n",
      "-----------------------------\n",
      "Classification Report\n",
      "                             \n",
      "              precision    recall  f1-score   support\n",
      "\n",
      "           0       0.66      0.62      0.64        37\n",
      "           1       0.84      0.86      0.85        88\n",
      "\n",
      "    accuracy                           0.79       125\n",
      "   macro avg       0.75      0.74      0.75       125\n",
      "weighted avg       0.79      0.79      0.79       125\n",
      "\n"
     ]
    }
   ],
   "source": [
    "\n",
    "# Print results\n",
    "print(\"Accuracy Score\")\n",
    "print(accuracy_score(y_test, y_pred))\n",
    "print (\"-----------------------------\")\n",
    "\n",
    "print(\"Confusion Matrix\")\n",
    "print (\"                             \")\n",
    "print(pd.DataFrame(\n",
    "    confusion_matrix(y_test, y_pred), index=[\"Actual 0\", \"Actual 1\"], columns=[\"Predicted 0\", \"Predicted 1\"])\n",
    ")\n",
    "print (\"-----------------------------\")\n",
    "\n",
    "print(\"Classification Report\")\n",
    "print (\"                             \")\n",
    "print(classification_report(y_test, y_pred))"
   ]
  },
  {
   "cell_type": "code",
   "execution_count": 130,
   "id": "5e46dbb6",
   "metadata": {},
   "outputs": [
    {
     "data": {
      "text/plain": [
       "[(0.1666071222758066, 'Credit_History'),\n",
       " (0.16012304895830146, 'Total_Income'),\n",
       " (0.14444008589919285, 'LoanAmount'),\n",
       " (0.14415092019690118, 'ApplicantIncome'),\n",
       " (0.0958073472013327, 'CoapplicantIncome'),\n",
       " (0.04173730412401029, 'Loan_Amount_Term'),\n",
       " (0.03597635379423138, 'Property_Area_Semiurban'),\n",
       " (0.02200378736446486, 'Property_Area_Rural'),\n",
       " (0.018566920013811893, 'Dependents_0'),\n",
       " (0.016804350531307105, 'Education_Graduate'),\n",
       " (0.01679746096148335, 'Property_Area_Urban'),\n",
       " (0.016427238026239136, 'Married_No'),\n",
       " (0.014926652878803402, 'Gender_Female'),\n",
       " (0.013965683577088125, 'Self_Employed_No'),\n",
       " (0.013856689687567775, 'Married_Yes'),\n",
       " (0.013625131399239312, 'Gender_Male'),\n",
       " (0.013541688629749462, 'Education_Not Graduate'),\n",
       " (0.013230642084325525, 'Dependents_2'),\n",
       " (0.012620909447917278, 'Self_Employed_Yes'),\n",
       " (0.010966171545723042, 'Dependents_1'),\n",
       " (0.008369667437917743, 'Dependents_3+'),\n",
       " (0.005454823964585435, 'Self_Employed_Other')]"
      ]
     },
     "execution_count": 130,
     "metadata": {},
     "output_type": "execute_result"
    }
   ],
   "source": [
    "# We can sort the features by their importance.\n",
    "sorted(zip(rf_model.feature_importances_, X.columns), reverse=True)"
   ]
  },
  {
   "cell_type": "code",
   "execution_count": 131,
   "id": "74dd2083",
   "metadata": {},
   "outputs": [],
   "source": [
    "# Gradient BOOST"
   ]
  },
  {
   "cell_type": "code",
   "execution_count": 132,
   "id": "097e01e3",
   "metadata": {},
   "outputs": [
    {
     "data": {
      "text/plain": [
       "Counter({1: 262, 0: 262})"
      ]
     },
     "execution_count": 132,
     "metadata": {},
     "output_type": "execute_result"
    }
   ],
   "source": [
    "Counter (y_resampled)"
   ]
  },
  {
   "cell_type": "code",
   "execution_count": 133,
   "id": "c337b3d6",
   "metadata": {},
   "outputs": [
    {
     "data": {
      "text/plain": [
       "array([[-0.63510197, -0.13503653, -0.58928891, ..., -0.4055175 ,\n",
       "        -0.81455022,  0.81455022],\n",
       "       [ 3.58946441,  1.37855433,  4.9193644 , ..., -0.4055175 ,\n",
       "        -0.81455022,  0.81455022],\n",
       "       [-0.64552564,  0.20320431, -0.61258131, ..., -0.4055175 ,\n",
       "        -0.81455022,  0.81455022],\n",
       "       ...,\n",
       "       [-0.56263261,  0.04922349, -0.5543503 , ..., -0.4055175 ,\n",
       "        -0.81455022,  0.81455022],\n",
       "       [-0.41446752,  0.23052945, -0.33307247, ..., -0.4055175 ,\n",
       "        -0.81455022,  0.81455022],\n",
       "       [-0.27325155, -0.56596128, -0.36801108, ..., -0.4055175 ,\n",
       "         1.22767139, -1.22767139]])"
      ]
     },
     "execution_count": 133,
     "metadata": {},
     "output_type": "execute_result"
    }
   ],
   "source": [
    "X_train_scaled"
   ]
  },
  {
   "cell_type": "code",
   "execution_count": 134,
   "id": "bb1d4d3e",
   "metadata": {},
   "outputs": [
    {
     "name": "stdout",
     "output_type": "stream",
     "text": [
      "Learning rate:  0.05\n",
      "Accuracy score (training): 0.784\n",
      "Accuracy score (validation): 0.832\n",
      "Learning rate:  0.1\n",
      "Accuracy score (training): 0.815\n",
      "Accuracy score (validation): 0.824\n",
      "Learning rate:  0.25\n",
      "Accuracy score (training): 0.874\n",
      "Accuracy score (validation): 0.792\n",
      "Learning rate:  0.5\n",
      "Accuracy score (training): 0.931\n",
      "Accuracy score (validation): 0.776\n",
      "Learning rate:  0.75\n",
      "Accuracy score (training): 0.952\n",
      "Accuracy score (validation): 0.768\n",
      "Learning rate:  1\n",
      "Accuracy score (training): 0.956\n",
      "Accuracy score (validation): 0.720\n"
     ]
    }
   ],
   "source": [
    "from sklearn.ensemble import GradientBoostingClassifier\n",
    "learning_rates = [0.05, 0.1, 0.25, 0.5, 0.75, 1]\n",
    "for learning_rate in learning_rates:\n",
    "    classifier = GradientBoostingClassifier(n_estimators=20,\n",
    "   learning_rate=learning_rate,\n",
    "   max_features=5,\n",
    "   max_depth=3,\n",
    "   random_state=1)\n",
    "    classifier.fit(X_train_scaled, y_resampled)\n",
    "    \n",
    "    print(\"Learning rate: \", learning_rate)\n",
    "    print(\"Accuracy score (training): {0:.3f}\".format(\n",
    "       classifier.score(\n",
    "           X_train_scaled,\n",
    "           y_resampled)))\n",
    "    print(\"Accuracy score (validation): {0:.3f}\".format(\n",
    "       classifier.score(\n",
    "           X_test_scaled,\n",
    "           y_test)))\n",
    "    "
   ]
  },
  {
   "cell_type": "code",
   "execution_count": 135,
   "id": "05519fb6",
   "metadata": {},
   "outputs": [],
   "source": [
    "classifier = GradientBoostingClassifier(n_estimators=40,\n",
    "   learning_rate=0.05, max_features=5, max_depth=3, random_state=1)\n",
    "\n",
    "classifier.fit(X_train_scaled, y_resampled)\n",
    "y_pred = classifier.predict(X_test_scaled)"
   ]
  },
  {
   "cell_type": "code",
   "execution_count": 136,
   "id": "719e13da",
   "metadata": {},
   "outputs": [],
   "source": [
    "# Calculating the confusion matrix\n",
    "#cm = confusion_matrix(y_test, y_pred)\n",
    "\n",
    "# Create a DataFrame from the confusion matrix.\n",
    "#cm_df = pd.DataFrame(\n",
    "   # confusion_matrix(y_test, y_pred), index=[\"Actual 0\", \"Actual 1\"], columns=[\"Predicted 0\", \"Predicted 1\"])\n",
    "\n",
    "#cm_df"
   ]
  },
  {
   "cell_type": "code",
   "execution_count": 137,
   "id": "daf32838",
   "metadata": {},
   "outputs": [
    {
     "name": "stdout",
     "output_type": "stream",
     "text": [
      "Accuracy Score\n",
      "0.824\n",
      "-----------------------------\n",
      "Confusion Matrix\n",
      "                             \n",
      "          Predicted 0  Predicted 1\n",
      "Actual 0           23           14\n",
      "Actual 1            8           80\n",
      "-----------------------------\n",
      "Classification Report\n",
      "                             \n",
      "              precision    recall  f1-score   support\n",
      "\n",
      "           0       0.74      0.62      0.68        37\n",
      "           1       0.85      0.91      0.88        88\n",
      "\n",
      "    accuracy                           0.82       125\n",
      "   macro avg       0.80      0.77      0.78       125\n",
      "weighted avg       0.82      0.82      0.82       125\n",
      "\n"
     ]
    }
   ],
   "source": [
    "# Print results\n",
    "print(\"Accuracy Score\")\n",
    "print(accuracy_score(y_test, y_pred))\n",
    "print (\"-----------------------------\")\n",
    "\n",
    "print(\"Confusion Matrix\")\n",
    "print (\"                             \")\n",
    "print(pd.DataFrame(\n",
    "    confusion_matrix(y_test, y_pred), index=[\"Actual 0\", \"Actual 1\"], columns=[\"Predicted 0\", \"Predicted 1\"])\n",
    ")\n",
    "print (\"-----------------------------\")\n",
    "\n",
    "print(\"Classification Report\")\n",
    "print (\"                             \")\n",
    "print(classification_report(y_test, y_pred))"
   ]
  },
  {
   "cell_type": "code",
   "execution_count": null,
   "id": "867269e1",
   "metadata": {},
   "outputs": [],
   "source": []
  },
  {
   "cell_type": "code",
   "execution_count": null,
   "id": "1b82f348",
   "metadata": {},
   "outputs": [],
   "source": []
  }
 ],
 "metadata": {
  "kernelspec": {
   "display_name": "PythonData",
   "language": "python",
   "name": "pythondata"
  },
  "language_info": {
   "codemirror_mode": {
    "name": "ipython",
    "version": 3
   },
   "file_extension": ".py",
   "mimetype": "text/x-python",
   "name": "python",
   "nbconvert_exporter": "python",
   "pygments_lexer": "ipython3",
   "version": "3.9.7"
  }
 },
 "nbformat": 4,
 "nbformat_minor": 5
}
